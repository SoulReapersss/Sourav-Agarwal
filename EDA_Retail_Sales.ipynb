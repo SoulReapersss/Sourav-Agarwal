{
 "cells": [
  {
   "cell_type": "code",
   "execution_count": null,
   "id": "5a9996ff-cf57-4018-8015-8da6437316f9",
   "metadata": {},
   "outputs": [],
   "source": [
    "# This was a dirty data set tha"
   ]
  },
  {
   "cell_type": "code",
   "execution_count": 2,
   "id": "d996bcaf-28ab-4153-ba27-05d7592b2f2c",
   "metadata": {},
   "outputs": [],
   "source": [
    "import pandas as pd\n",
    "import numpy as np\n",
    "import matplotlib.pyplot as plt\n",
    "import seaborn as sns\n",
    "%matplotlib inline"
   ]
  },
  {
   "cell_type": "code",
   "execution_count": 3,
   "id": "00bdf7f8-f0ce-4387-ba2f-3b072536120f",
   "metadata": {},
   "outputs": [],
   "source": [
    "df=pd.read_csv('retail_store_sales.csv')"
   ]
  },
  {
   "cell_type": "code",
   "execution_count": 4,
   "id": "83aaab7d-7469-421a-9fb3-e1b9d0d428e5",
   "metadata": {},
   "outputs": [
    {
     "data": {
      "text/html": [
       "<div>\n",
       "<style scoped>\n",
       "    .dataframe tbody tr th:only-of-type {\n",
       "        vertical-align: middle;\n",
       "    }\n",
       "\n",
       "    .dataframe tbody tr th {\n",
       "        vertical-align: top;\n",
       "    }\n",
       "\n",
       "    .dataframe thead th {\n",
       "        text-align: right;\n",
       "    }\n",
       "</style>\n",
       "<table border=\"1\" class=\"dataframe\">\n",
       "  <thead>\n",
       "    <tr style=\"text-align: right;\">\n",
       "      <th></th>\n",
       "      <th>Transaction ID</th>\n",
       "      <th>Customer ID</th>\n",
       "      <th>Category</th>\n",
       "      <th>Item</th>\n",
       "      <th>Price Per Unit</th>\n",
       "      <th>Quantity</th>\n",
       "      <th>Total Spent</th>\n",
       "      <th>Payment Method</th>\n",
       "      <th>Location</th>\n",
       "      <th>Transaction Date</th>\n",
       "      <th>Discount Applied</th>\n",
       "    </tr>\n",
       "  </thead>\n",
       "  <tbody>\n",
       "    <tr>\n",
       "      <th>0</th>\n",
       "      <td>TXN_6867343</td>\n",
       "      <td>CUST_09</td>\n",
       "      <td>Patisserie</td>\n",
       "      <td>Item_10_PAT</td>\n",
       "      <td>18.5</td>\n",
       "      <td>10.0</td>\n",
       "      <td>185.0</td>\n",
       "      <td>Digital Wallet</td>\n",
       "      <td>Online</td>\n",
       "      <td>2024-04-08</td>\n",
       "      <td>True</td>\n",
       "    </tr>\n",
       "    <tr>\n",
       "      <th>1</th>\n",
       "      <td>TXN_3731986</td>\n",
       "      <td>CUST_22</td>\n",
       "      <td>Milk Products</td>\n",
       "      <td>Item_17_MILK</td>\n",
       "      <td>29.0</td>\n",
       "      <td>9.0</td>\n",
       "      <td>261.0</td>\n",
       "      <td>Digital Wallet</td>\n",
       "      <td>Online</td>\n",
       "      <td>2023-07-23</td>\n",
       "      <td>True</td>\n",
       "    </tr>\n",
       "    <tr>\n",
       "      <th>2</th>\n",
       "      <td>TXN_9303719</td>\n",
       "      <td>CUST_02</td>\n",
       "      <td>Butchers</td>\n",
       "      <td>Item_12_BUT</td>\n",
       "      <td>21.5</td>\n",
       "      <td>2.0</td>\n",
       "      <td>43.0</td>\n",
       "      <td>Credit Card</td>\n",
       "      <td>Online</td>\n",
       "      <td>2022-10-05</td>\n",
       "      <td>False</td>\n",
       "    </tr>\n",
       "    <tr>\n",
       "      <th>3</th>\n",
       "      <td>TXN_9458126</td>\n",
       "      <td>CUST_06</td>\n",
       "      <td>Beverages</td>\n",
       "      <td>Item_16_BEV</td>\n",
       "      <td>27.5</td>\n",
       "      <td>9.0</td>\n",
       "      <td>247.5</td>\n",
       "      <td>Credit Card</td>\n",
       "      <td>Online</td>\n",
       "      <td>2022-05-07</td>\n",
       "      <td>NaN</td>\n",
       "    </tr>\n",
       "    <tr>\n",
       "      <th>4</th>\n",
       "      <td>TXN_4575373</td>\n",
       "      <td>CUST_05</td>\n",
       "      <td>Food</td>\n",
       "      <td>Item_6_FOOD</td>\n",
       "      <td>12.5</td>\n",
       "      <td>7.0</td>\n",
       "      <td>87.5</td>\n",
       "      <td>Digital Wallet</td>\n",
       "      <td>Online</td>\n",
       "      <td>2022-10-02</td>\n",
       "      <td>False</td>\n",
       "    </tr>\n",
       "  </tbody>\n",
       "</table>\n",
       "</div>"
      ],
      "text/plain": [
       "  Transaction ID Customer ID       Category          Item  Price Per Unit  \\\n",
       "0    TXN_6867343     CUST_09     Patisserie   Item_10_PAT            18.5   \n",
       "1    TXN_3731986     CUST_22  Milk Products  Item_17_MILK            29.0   \n",
       "2    TXN_9303719     CUST_02       Butchers   Item_12_BUT            21.5   \n",
       "3    TXN_9458126     CUST_06      Beverages   Item_16_BEV            27.5   \n",
       "4    TXN_4575373     CUST_05           Food   Item_6_FOOD            12.5   \n",
       "\n",
       "   Quantity  Total Spent  Payment Method Location Transaction Date  \\\n",
       "0      10.0        185.0  Digital Wallet   Online       2024-04-08   \n",
       "1       9.0        261.0  Digital Wallet   Online       2023-07-23   \n",
       "2       2.0         43.0     Credit Card   Online       2022-10-05   \n",
       "3       9.0        247.5     Credit Card   Online       2022-05-07   \n",
       "4       7.0         87.5  Digital Wallet   Online       2022-10-02   \n",
       "\n",
       "  Discount Applied  \n",
       "0             True  \n",
       "1             True  \n",
       "2            False  \n",
       "3              NaN  \n",
       "4            False  "
      ]
     },
     "execution_count": 4,
     "metadata": {},
     "output_type": "execute_result"
    }
   ],
   "source": [
    "df.head(5)"
   ]
  },
  {
   "cell_type": "code",
   "execution_count": 5,
   "id": "a7437c25-08d7-4f4d-ad74-11bebf61f9f6",
   "metadata": {},
   "outputs": [
    {
     "data": {
      "text/plain": [
       "Transaction ID         0\n",
       "Customer ID            0\n",
       "Category               0\n",
       "Item                1213\n",
       "Price Per Unit       609\n",
       "Quantity             604\n",
       "Total Spent          604\n",
       "Payment Method         0\n",
       "Location               0\n",
       "Transaction Date       0\n",
       "Discount Applied    4199\n",
       "dtype: int64"
      ]
     },
     "execution_count": 5,
     "metadata": {},
     "output_type": "execute_result"
    }
   ],
   "source": [
    "df.isnull().sum()"
   ]
  },
  {
   "cell_type": "code",
   "execution_count": 6,
   "id": "4da2a90c-8b8f-441d-99be-a25364c85833",
   "metadata": {},
   "outputs": [],
   "source": [
    "df['Price Per Unit']=df['Price Per Unit'].fillna(df['Total Spent']/df['Quantity'])"
   ]
  },
  {
   "cell_type": "code",
   "execution_count": 7,
   "id": "bb0167be-dd3d-4e2c-bcc1-1015854607e8",
   "metadata": {},
   "outputs": [
    {
     "name": "stderr",
     "output_type": "stream",
     "text": [
      "C:\\Users\\soura\\AppData\\Local\\Temp\\ipykernel_6452\\1897176963.py:1: FutureWarning: Series.fillna with 'method' is deprecated and will raise in a future version. Use obj.ffill() or obj.bfill() instead.\n",
      "  df['Item'] = df.groupby(['Price Per Unit', 'Category'])['Item'].transform(lambda x: x.fillna(method='ffill').fillna(method='bfill'))\n"
     ]
    }
   ],
   "source": [
    "df['Item'] = df.groupby(['Price Per Unit', 'Category'])['Item'].transform(lambda x: x.fillna(method='ffill').fillna(method='bfill'))"
   ]
  },
  {
   "cell_type": "code",
   "execution_count": 8,
   "id": "e524ed31-bd71-455c-b6b3-edeb00f47010",
   "metadata": {},
   "outputs": [],
   "source": [
    "df['Transaction Date']=pd.to_datetime(df['Transaction Date'])"
   ]
  },
  {
   "cell_type": "code",
   "execution_count": 9,
   "id": "42942411-a5c9-4d50-9ee8-532c032c9400",
   "metadata": {},
   "outputs": [],
   "source": [
    "df['Quantity']=df['Quantity'].fillna(df.groupby('Item')['Quantity'].transform('mean'))"
   ]
  },
  {
   "cell_type": "code",
   "execution_count": 10,
   "id": "39e86e1e-84bf-4e8e-a9cd-f9fbcfe36790",
   "metadata": {},
   "outputs": [],
   "source": [
    "df['Total Spent']=df['Total Spent'].fillna(df['Price Per Unit']*df['Quantity'])"
   ]
  },
  {
   "cell_type": "code",
   "execution_count": 11,
   "id": "c4a93b07-15bf-410e-9e04-2e30489c02b2",
   "metadata": {},
   "outputs": [],
   "source": [
    "# Calculate the discount rate per item (percentage of times it was True)\n",
    "item_discount_rate = df.groupby('Item')['Discount Applied'].mean()\n",
    "\n",
    "# Fill missing values: If an item usually gets a discount (more than 50% of the time), set to True; otherwise, False\n",
    "df['Discount Applied'] = df.apply(\n",
    "    lambda row: True if pd.isna(row['Discount Applied']) and item_discount_rate[row['Item']] > 0.5\n",
    "    else (False if pd.isna(row['Discount Applied']) else row['Discount Applied']), axis=1\n",
    ")"
   ]
  },
  {
   "cell_type": "code",
   "execution_count": 19,
   "id": "28d82a89-cfa2-4eca-9cdb-35da3d550a2b",
   "metadata": {},
   "outputs": [
    {
     "data": {
      "text/plain": [
       "Transaction_ID      0\n",
       "Customer_ID         0\n",
       "Category            0\n",
       "Item                0\n",
       "Price_Per_Unit      0\n",
       "Quantity            0\n",
       "Total_Spent         0\n",
       "Payment_Method      0\n",
       "Location            0\n",
       "Transaction_Date    0\n",
       "Discount_Applied    0\n",
       "dtype: int64"
      ]
     },
     "execution_count": 19,
     "metadata": {},
     "output_type": "execute_result"
    }
   ],
   "source": [
    "df.isnull().sum()"
   ]
  },
  {
   "cell_type": "code",
   "execution_count": 13,
   "id": "d1bf2ce2-0ced-4489-a7ba-4b05576a2905",
   "metadata": {},
   "outputs": [
    {
     "data": {
      "text/plain": [
       "<Axes: xlabel='Category'>"
      ]
     },
     "execution_count": 13,
     "metadata": {},
     "output_type": "execute_result"
    },
    {
     "data": {
      "image/png": "[encoded data removed]",
      "text/plain": [
       "<Figure size 640x480 with 1 Axes>"
      ]
     },
     "metadata": {},
     "output_type": "display_data"
    }
   ],
   "source": [
    "df.groupby('Category')['Total Spent'].sum().plot(kind='bar')"
   ]
  },
  {
   "cell_type": "code",
   "execution_count": 18,
   "id": "57c45645-990a-4444-a846-bc30c119dea8",
   "metadata": {},
   "outputs": [],
   "source": [
    "df.columns = df.columns.str.replace(' ', '_')"
   ]
  },
  {
   "cell_type": "code",
   "execution_count": 21,
   "id": "e9ac327e-90ae-440d-9f1c-da6d9d084e5c",
   "metadata": {},
   "outputs": [
    {
     "data": {
      "text/plain": [
       "25"
      ]
     },
     "execution_count": 21,
     "metadata": {},
     "output_type": "execute_result"
    }
   ],
   "source": [
    "df.Customer_ID.nunique()"
   ]
  },
  {
   "cell_type": "code",
   "execution_count": 17,
   "id": "0f7b0e2a-8c76-44bb-b81b-2f482af731a8",
   "metadata": {},
   "outputs": [
    {
     "data": {
      "text/plain": [
       "Category\n",
       "Beverages                             206416.187805\n",
       "Butchers                              217301.036759\n",
       "Computers and electric accessories    201171.294314\n",
       "Electric household essentials         214411.390616\n",
       "Food                                  204553.862251\n",
       "Furniture                             204544.022790\n",
       "Milk Products                         189112.583034\n",
       "Patisserie                            193370.769228\n",
       "Name: Total Spent, dtype: float64"
      ]
     },
     "execution_count": 17,
     "metadata": {},
     "output_type": "execute_result"
    }
   ],
   "source": [
    "df.groupby('Category')['Total Spent'].sum()"
   ]
  },
  {
   "cell_type": "code",
   "execution_count": 22,
   "id": "42dd00ac-e029-4e2e-be15-184829150284",
   "metadata": {},
   "outputs": [
    {
     "data": {
      "text/plain": [
       "129.69233771753977"
      ]
     },
     "execution_count": 22,
     "metadata": {},
     "output_type": "execute_result"
    }
   ],
   "source": [
    "df.Total_Spent.mean()"
   ]
  },
  {
   "cell_type": "code",
   "execution_count": 23,
   "id": "a9827b02-331e-44e6-ab99-08b851de530e",
   "metadata": {},
   "outputs": [
    {
     "data": {
      "text/plain": [
       "Payment_Method\n",
       "Cash              4310\n",
       "Digital Wallet    4144\n",
       "Credit Card       4121\n",
       "Name: count, dtype: int64"
      ]
     },
     "execution_count": 23,
     "metadata": {},
     "output_type": "execute_result"
    }
   ],
   "source": [
    "df.Payment_Method.value_counts()"
   ]
  },
  {
   "cell_type": "code",
   "execution_count": 24,
   "id": "a0cecb66-feea-4e5f-8f77-c26a98c82cf9",
   "metadata": {},
   "outputs": [
    {
     "data": {
      "text/plain": [
       "Location\n",
       "In-store    802004.125738\n",
       "Online      828877.021060\n",
       "Name: Total_Spent, dtype: float64"
      ]
     },
     "execution_count": 24,
     "metadata": {},
     "output_type": "execute_result"
    }
   ],
   "source": [
    "df.groupby('Location')['Total_Spent'].sum()"
   ]
  },
  {
   "cell_type": "code",
   "execution_count": 27,
   "id": "704d4804-bb6e-4c89-a6b6-26aee7f5ed6a",
   "metadata": {},
   "outputs": [
    {
     "data": {
      "text/plain": [
       "<Axes: xlabel='Transaction_Date'>"
      ]
     },
     "execution_count": 27,
     "metadata": {},
     "output_type": "execute_result"
    },
    {
     "data": {
      "image/png": "[encoded data removed]",
      "text/plain": [
       "<Figure size 640x480 with 1 Axes>"
      ]
     },
     "metadata": {},
     "output_type": "display_data"
    }
   ],
   "source": [
    "df.groupby('Transaction_Date')['Total_Spent'].sum().plot(kind='line')"
   ]
  },
  {
   "cell_type": "code",
   "execution_count": 31,
   "id": "13677b89-bc72-46d1-b9eb-a427f185773d",
   "metadata": {},
   "outputs": [],
   "source": [
    "# Extract the day of the week (0=Monday, 1=Tuesday, ..., 6=Sunday)\n",
    "df['Day of Week'] = df['Transaction_Date'].dt.day_name()\n",
    "\n",
    "# Group by 'Day of Week' and sum 'Total Spent'\n",
    "sales_by_day = df.groupby('Day of Week')['Total_Spent'].sum()\n",
    "\n",
    "# Find the day with the highest sales\n",
    "highest_sales_day = sales_by_day.idxmax()"
   ]
  },
  {
   "cell_type": "code",
   "execution_count": 33,
   "id": "b0ff9d89-9d68-4e6a-b902-a249559289c1",
   "metadata": {},
   "outputs": [
    {
     "data": {
      "text/plain": [
       "'Friday'"
      ]
     },
     "execution_count": 33,
     "metadata": {},
     "output_type": "execute_result"
    }
   ],
   "source": [
    "highest_sales_day"
   ]
  },
  {
   "cell_type": "code",
   "execution_count": 40,
   "id": "cbfb4041-e5e2-4561-a868-a44ec0f7d872",
   "metadata": {},
   "outputs": [
    {
     "name": "stdout",
     "output_type": "stream",
     "text": [
      "                Price_Per_Unit  Quantity  Total_Spent\n",
      "Price_Per_Unit        1.000000  0.010577     0.639948\n",
      "Quantity              0.010577  1.000000     0.705327\n",
      "Total_Spent           0.639948  0.705327     1.000000\n"
     ]
    }
   ],
   "source": [
    "# Select only numerical columns\n",
    "numerical_data = df.select_dtypes(include=['number'])\n",
    "\n",
    "# Calculate the correlation matrix\n",
    "corr_matrix = numerical_data.corr()\n",
    "\n",
    "# Display the correlation matrix\n",
    "print(corr_matrix)"
   ]
  },
  {
   "cell_type": "code",
   "execution_count": 43,
   "id": "5797c309-f948-437b-bd45-c54b67ac1244",
   "metadata": {},
   "outputs": [
    {
     "name": "stdout",
     "output_type": "stream",
     "text": [
      "      Transaction_ID Customer_ID                            Category  \\\n",
      "3327     TXN_6950467     CUST_01  Computers and electric accessories   \n",
      "3065     TXN_9662767     CUST_01                           Beverages   \n",
      "9001     TXN_9753172     CUST_01  Computers and electric accessories   \n",
      "10293    TXN_1701594     CUST_01                       Milk Products   \n",
      "1950     TXN_1860120     CUST_01                           Furniture   \n",
      "...              ...         ...                                 ...   \n",
      "10406    TXN_7872818     CUST_25                          Patisserie   \n",
      "2642     TXN_7256566     CUST_25                          Patisserie   \n",
      "960      TXN_9196494     CUST_25       Electric household essentials   \n",
      "8566     TXN_6314774     CUST_25                       Milk Products   \n",
      "7772     TXN_4454614     CUST_25                          Patisserie   \n",
      "\n",
      "               Item  Price_Per_Unit  Quantity  Total_Spent  Payment_Method  \\\n",
      "3327     Item_6_CEA            12.5       6.0         75.0  Digital Wallet   \n",
      "3065    Item_20_BEV            33.5       9.0        301.5     Credit Card   \n",
      "9001     Item_9_CEA            17.0       9.0        153.0  Digital Wallet   \n",
      "10293   Item_6_MILK            12.5       6.0         75.0     Credit Card   \n",
      "1950    Item_25_FUR            41.0      10.0        410.0  Digital Wallet   \n",
      "...             ...             ...       ...          ...             ...   \n",
      "10406    Item_8_PAT            15.5       8.0        124.0     Credit Card   \n",
      "2642    Item_14_PAT            24.5       9.0        220.5     Credit Card   \n",
      "960     Item_25_EHE            41.0       5.0        205.0     Credit Card   \n",
      "8566   Item_23_MILK            38.0       8.0        304.0     Credit Card   \n",
      "7772    Item_10_PAT            18.5       1.0         18.5     Credit Card   \n",
      "\n",
      "       Location Transaction_Date  Discount_Applied Day of Week  \\\n",
      "3327   In-store       2022-01-01              True    Saturday   \n",
      "3065   In-store       2022-01-02              True      Sunday   \n",
      "9001   In-store       2022-01-12              True   Wednesday   \n",
      "10293    Online       2022-01-15              True    Saturday   \n",
      "1950     Online       2022-01-19              True   Wednesday   \n",
      "...         ...              ...               ...         ...   \n",
      "10406  In-store       2024-12-21              True    Saturday   \n",
      "2642   In-store       2024-12-24              True     Tuesday   \n",
      "960    In-store       2024-12-28              True    Saturday   \n",
      "8566     Online       2025-01-08              True   Wednesday   \n",
      "7772   In-store       2025-01-13              True      Monday   \n",
      "\n",
      "       Returned After Discount  \n",
      "3327                      True  \n",
      "3065                      True  \n",
      "9001                      True  \n",
      "10293                     True  \n",
      "1950                      True  \n",
      "...                        ...  \n",
      "10406                     True  \n",
      "2642                      True  \n",
      "960                       True  \n",
      "8566                      True  \n",
      "7772                      True  \n",
      "\n",
      "[4873 rows x 13 columns]\n"
     ]
    }
   ],
   "source": [
    "# 1. Filter the customers who got a discount (Discount Applied = True)\n",
    "discount_customers = df[df['Discount_Applied'] == True]\n",
    "\n",
    "# 2. Identify customers who made subsequent purchases\n",
    "# 3. Sort the DataFrame by 'Customer ID' and 'Transaction Date'\n",
    "df_sorted = df.sort_values(by=['Customer_ID', 'Transaction_Date'])\n",
    "\n",
    "# 4. Check if these customers returned for another purchase\n",
    "df_sorted['Returned After Discount'] = df_sorted.groupby('Customer_ID')['Transaction_Date'].shift(-1) > df_sorted['Transaction_Date']\n",
    "\n",
    "# 5. Filter out customers who had a discount and returned\n",
    "returned_customers = df_sorted[(df_sorted['Discount_Applied'] == True) & (df_sorted['Returned After Discount'] == True)]\n",
    "\n",
    "# Display the customers who got a discount and returned\n",
    "print(returned_customers)"
   ]
  },
  {
   "cell_type": "code",
   "execution_count": null,
   "id": "e4de2d7d-d6fe-4f2d-9db1-56240049c4ce",
   "metadata": {},
   "outputs": [],
   "source": []
  }
 ],
 "metadata": {
  "kernelspec": {
   "display_name": "Python 3 (ipykernel)",
   "language": "python",
   "name": "python3"
  },
  "language_info": {
   "codemirror_mode": {
    "name": "ipython",
    "version": 3
   },
   "file_extension": ".py",
   "mimetype": "text/x-python",
   "name": "python",
   "nbconvert_exporter": "python",
   "pygments_lexer": "ipython3",
   "version": "3.12.4"
  }
 },
 "nbformat": 4,
 "nbformat_minor": 5
}
