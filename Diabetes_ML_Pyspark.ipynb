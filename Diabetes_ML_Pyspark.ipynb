{
  "nbformat": 4,
  "nbformat_minor": 0,
  "metadata": {
    "colab": {
      "provenance": [],
      "gpuType": "T4"
    },
    "kernelspec": {
      "name": "python3",
      "display_name": "Python 3"
    },
    "language_info": {
      "name": "python"
    },
    "accelerator": "GPU"
  },
  "cells": [
    {
      "cell_type": "code",
      "execution_count": 26,
      "metadata": {
        "id": "9wfWuEQKraGo"
      },
      "outputs": [],
      "source": [
        "from pyspark.sql import SparkSession\n",
        "from pyspark.sql.functions import col, isnan, when, count\n",
        "from pyspark.ml.feature import StringIndexer, VectorAssembler, StandardScaler\n",
        "from pyspark.ml.classification import RandomForestClassifier\n",
        "from pyspark.ml.evaluation import MulticlassClassificationEvaluator\n",
        "from pyspark.ml.tuning import ParamGridBuilder, CrossValidator"
      ]
    },
    {
      "cell_type": "code",
      "source": [
        "# Initialize Spark session\n",
        "spark = SparkSession.builder.appName(\"DiabetesPrediction\").getOrCreate()"
      ],
      "metadata": {
        "id": "7L2LSoj-t4fG"
      },
      "execution_count": 27,
      "outputs": []
    },
    {
      "cell_type": "code",
      "source": [
        "data = spark.read.option(\"header\", True) \\\n",
        "    .option(\"inferSchema\", True) \\\n",
        "    .csv(\"/content/diabetes_prediction_india (1).csv\")"
      ],
      "metadata": {
        "id": "uLbp_HZrsMvi"
      },
      "execution_count": 28,
      "outputs": []
    },
    {
      "cell_type": "code",
      "source": [
        "# EDA: Display basic statistics and null value counts\n",
        "data.printSchema()\n",
        "data.show(5)\n",
        "data.select([count(when(isnan(c) | col(c).isNull(), c)).alias(c) for c in data.columns]).show()"
      ],
      "metadata": {
        "colab": {
          "base_uri": "https://localhost:8080/"
        },
        "id": "cbCqQD9OsYbF",
        "outputId": "4fa0cfc6-65bf-48ed-c204-46992114eb19"
      },
      "execution_count": 29,
      "outputs": [
        {
          "output_type": "stream",
          "name": "stdout",
          "text": [
            "root\n",
            " |-- Age: integer (nullable = true)\n",
            " |-- Gender: string (nullable = true)\n",
            " |-- BMI: double (nullable = true)\n",
            " |-- Family_History: string (nullable = true)\n",
            " |-- Physical_Activity: string (nullable = true)\n",
            " |-- Diet_Type: string (nullable = true)\n",
            " |-- Smoking_Status: string (nullable = true)\n",
            " |-- Alcohol_Intake: string (nullable = true)\n",
            " |-- Stress_Level: string (nullable = true)\n",
            " |-- Hypertension: string (nullable = true)\n",
            " |-- Cholesterol_Level: double (nullable = true)\n",
            " |-- Fasting_Blood_Sugar: double (nullable = true)\n",
            " |-- Postprandial_Blood_Sugar: double (nullable = true)\n",
            " |-- HBA1C: double (nullable = true)\n",
            " |-- Heart_Rate: integer (nullable = true)\n",
            " |-- Waist_Hip_Ratio: double (nullable = true)\n",
            " |-- Urban_Rural: string (nullable = true)\n",
            " |-- Health_Insurance: string (nullable = true)\n",
            " |-- Regular_Checkups: string (nullable = true)\n",
            " |-- Medication_For_Chronic_Conditions: string (nullable = true)\n",
            " |-- Pregnancies: integer (nullable = true)\n",
            " |-- Polycystic_Ovary_Syndrome: string (nullable = true)\n",
            " |-- Glucose_Tolerance_Test_Result: double (nullable = true)\n",
            " |-- Vitamin_D_Level: double (nullable = true)\n",
            " |-- C_Protein_Level: double (nullable = true)\n",
            " |-- Thyroid_Condition: string (nullable = true)\n",
            " |-- Diabetes_Status: string (nullable = true)\n",
            "\n",
            "+---+------+----+--------------+-----------------+--------------+--------------+--------------+------------+------------+-----------------+-------------------+------------------------+-----+----------+---------------+-----------+----------------+----------------+---------------------------------+-----------+-------------------------+-----------------------------+---------------+---------------+-----------------+---------------+\n",
            "|Age|Gender| BMI|Family_History|Physical_Activity|     Diet_Type|Smoking_Status|Alcohol_Intake|Stress_Level|Hypertension|Cholesterol_Level|Fasting_Blood_Sugar|Postprandial_Blood_Sugar|HBA1C|Heart_Rate|Waist_Hip_Ratio|Urban_Rural|Health_Insurance|Regular_Checkups|Medication_For_Chronic_Conditions|Pregnancies|Polycystic_Ovary_Syndrome|Glucose_Tolerance_Test_Result|Vitamin_D_Level|C_Protein_Level|Thyroid_Condition|Diabetes_Status|\n",
            "+---+------+----+--------------+-----------------+--------------+--------------+--------------+------------+------------+-----------------+-------------------+------------------------+-----+----------+---------------+-----------+----------------+----------------+---------------------------------+-----------+-------------------------+-----------------------------+---------------+---------------+-----------------+---------------+\n",
            "| 48|  Male|35.5|            No|             High|Non-Vegetarian|         Never|          None|      Medium|         Yes|            111.7|              141.0|                   165.6|  8.9|        94|           0.91|      Urban|              No|              No|                               No|          0|                        0|                        124.3|           31.5|           7.46|              Yes|            Yes|\n",
            "| 18| Other|28.7|           Yes|           Medium|Non-Vegetarian|       Current|      Moderate|        High|          No|            130.6|               83.1|                   142.6|  5.9|        68|           0.96|      Rural|             Yes|             Yes|                               No|          0|                        0|                        151.4|           12.5|           5.64|              Yes|             No|\n",
            "| 21| Other|30.0|           Yes|             High|Non-Vegetarian|       Current|      Moderate|        High|         Yes|            294.8|              159.9|                   212.4|  4.8|        70|           0.88|      Rural|              No|              No|                              Yes|          0|                        0|                        106.1|           35.8|            7.2|               No|            Yes|\n",
            "| 25|Female|25.6|            No|           Medium|    Vegetarian|        Former|      Moderate|        High|         Yes|            159.1|              133.3|                   225.4| 11.9|        78|           0.98|      Rural|              No|              No|                              Yes|          1|                       No|                         85.6|           15.4|           6.53|              Yes|             No|\n",
            "| 78|  Male|38.8|            No|             High|Non-Vegetarian|       Current|          High|        High|          No|            215.0|              164.9|                   218.1| 11.6|        65|           0.85|      Urban|              No|              No|                              Yes|          0|                        0|                         77.0|           28.6|           0.58|               No|            Yes|\n",
            "+---+------+----+--------------+-----------------+--------------+--------------+--------------+------------+------------+-----------------+-------------------+------------------------+-----+----------+---------------+-----------+----------------+----------------+---------------------------------+-----------+-------------------------+-----------------------------+---------------+---------------+-----------------+---------------+\n",
            "only showing top 5 rows\n",
            "\n",
            "+---+------+---+--------------+-----------------+---------+--------------+--------------+------------+------------+-----------------+-------------------+------------------------+-----+----------+---------------+-----------+----------------+----------------+---------------------------------+-----------+-------------------------+-----------------------------+---------------+---------------+-----------------+---------------+\n",
            "|Age|Gender|BMI|Family_History|Physical_Activity|Diet_Type|Smoking_Status|Alcohol_Intake|Stress_Level|Hypertension|Cholesterol_Level|Fasting_Blood_Sugar|Postprandial_Blood_Sugar|HBA1C|Heart_Rate|Waist_Hip_Ratio|Urban_Rural|Health_Insurance|Regular_Checkups|Medication_For_Chronic_Conditions|Pregnancies|Polycystic_Ovary_Syndrome|Glucose_Tolerance_Test_Result|Vitamin_D_Level|C_Protein_Level|Thyroid_Condition|Diabetes_Status|\n",
            "+---+------+---+--------------+-----------------+---------+--------------+--------------+------------+------------+-----------------+-------------------+------------------------+-----+----------+---------------+-----------+----------------+----------------+---------------------------------+-----------+-------------------------+-----------------------------+---------------+---------------+-----------------+---------------+\n",
            "|  0|     0|  0|             0|                0|        0|             0|             0|           0|           0|                0|                  0|                       0|    0|         0|              0|          0|               0|               0|                                0|          0|                        0|                            0|              0|              0|                0|              0|\n",
            "+---+------+---+--------------+-----------------+---------+--------------+--------------+------------+------------+-----------------+-------------------+------------------------+-----+----------+---------------+-----------+----------------+----------------+---------------------------------+-----------+-------------------------+-----------------------------+---------------+---------------+-----------------+---------------+\n",
            "\n"
          ]
        }
      ]
    },
    {
      "cell_type": "code",
      "source": [
        "data.describe().show()"
      ],
      "metadata": {
        "colab": {
          "base_uri": "https://localhost:8080/"
        },
        "id": "VIjj3-5QsaSA",
        "outputId": "14bbd23f-b469-44e8-d627-d38bf004dde8"
      },
      "execution_count": 30,
      "outputs": [
        {
          "output_type": "stream",
          "name": "stdout",
          "text": [
            "+-------+-----------------+------+------------------+--------------+-----------------+--------------+--------------+--------------+------------+------------+------------------+-------------------+------------------------+------------------+-----------------+-------------------+-----------+----------------+----------------+---------------------------------+------------------+-------------------------+-----------------------------+-----------------+------------------+-----------------+---------------+\n",
            "|summary|              Age|Gender|               BMI|Family_History|Physical_Activity|     Diet_Type|Smoking_Status|Alcohol_Intake|Stress_Level|Hypertension| Cholesterol_Level|Fasting_Blood_Sugar|Postprandial_Blood_Sugar|             HBA1C|       Heart_Rate|    Waist_Hip_Ratio|Urban_Rural|Health_Insurance|Regular_Checkups|Medication_For_Chronic_Conditions|       Pregnancies|Polycystic_Ovary_Syndrome|Glucose_Tolerance_Test_Result|  Vitamin_D_Level|   C_Protein_Level|Thyroid_Condition|Diabetes_Status|\n",
            "+-------+-----------------+------+------------------+--------------+-----------------+--------------+--------------+--------------+------------+------------+------------------+-------------------+------------------------+------------------+-----------------+-------------------+-----------+----------------+----------------+---------------------------------+------------------+-------------------------+-----------------------------+-----------------+------------------+-----------------+---------------+\n",
            "|  count|             5292|  5292|              5292|          5292|             5292|          5292|          5292|          5292|        5292|        5292|              5292|               5292|                    5292|              5292|             5292|               5292|       5292|            5292|            5292|                             5292|              5292|                     5292|                         5292|             5292|              5292|             5292|           5292|\n",
            "|   mean|48.41798941798942|  NULL|27.459882842025777|          NULL|             NULL|          NULL|          NULL|          NULL|        NULL|        NULL|199.77709750566913| 124.94019274376446|       164.7099017384732| 8.226908541194245| 89.7874149659864|   0.94939909297052|       NULL|            NULL|            NULL|                             NULL|1.4933862433862435|                      0.0|           135.01186696900976|29.90988284202581| 5.258743386243387|             NULL|           NULL|\n",
            "| stddev|18.04054426732291|  NULL|  7.19418685727553|          NULL|             NULL|          NULL|          NULL|          NULL|        NULL|        NULL| 57.10375895137225|  32.09176975598774|       43.15280283575493|2.1796618465283752|17.23842960569779|0.14487091022851276|       NULL|            NULL|            NULL|                             NULL|2.6774137555754076|                      0.0|           37.541696128005675| 11.5279512331867|2.7544999399881878|             NULL|           NULL|\n",
            "|    min|               18|Female|              15.0|            No|             High|Non-Vegetarian|       Current|          High|        High|          No|             100.0|               70.0|                    90.1|               4.5|               60|                0.7|      Rural|              No|              No|                               No|                 0|                        0|                         70.1|             10.0|               0.5|               No|             No|\n",
            "|    max|               79| Other|              40.0|           Yes|           Medium|    Vegetarian|         Never|          None|      Medium|         Yes|             300.0|              180.0|                   240.0|              12.0|              119|                1.2|      Urban|             Yes|             Yes|                              Yes|                 9|                      Yes|                        200.0|             50.0|              10.0|              Yes|            Yes|\n",
            "+-------+-----------------+------+------------------+--------------+-----------------+--------------+--------------+--------------+------------+------------+------------------+-------------------+------------------------+------------------+-----------------+-------------------+-----------+----------------+----------------+---------------------------------+------------------+-------------------------+-----------------------------+-----------------+------------------+-----------------+---------------+\n",
            "\n"
          ]
        }
      ]
    },
    {
      "cell_type": "code",
      "source": [
        "# Encode categorical variables and assemble features\n",
        "categorical_cols = [\n",
        "    \"Gender\", \"Family_History\", \"Physical_Activity\", \"Diet_Type\", \"Smoking_Status\",\n",
        "    \"Alcohol_Intake\", \"Stress_Level\", \"Hypertension\", \"Urban_Rural\", \"Health_Insurance\",\n",
        "    \"Regular_Checkups\", \"Medication_For_Chronic_Conditions\", \"Polycystic_Ovary_Syndrome\",\n",
        "    \"Thyroid_Condition\"]"
      ],
      "metadata": {
        "id": "hy0mYOdxuFU-"
      },
      "execution_count": 31,
      "outputs": []
    },
    {
      "cell_type": "code",
      "source": [
        "indexers = [StringIndexer(inputCol=col, outputCol=f\"{col}_index\") for col in categorical_cols]"
      ],
      "metadata": {
        "id": "10RIjlzUuJau"
      },
      "execution_count": 32,
      "outputs": []
    },
    {
      "cell_type": "code",
      "source": [
        "# Transform categorical features\n",
        "for indexer in indexers:\n",
        "    data = indexer.fit(data).transform(data)"
      ],
      "metadata": {
        "id": "9zR5VF8LuNdY"
      },
      "execution_count": 33,
      "outputs": []
    },
    {
      "cell_type": "code",
      "source": [
        "# Assemble all features\n",
        "feature_cols = [\n",
        "    \"Age\", \"BMI\", \"Cholesterol_Level\", \"Fasting_Blood_Sugar\", \"Postprandial_Blood_Sugar\",\n",
        "    \"HBA1C\", \"Heart_Rate\", \"Waist_Hip_Ratio\", \"Pregnancies\", \"Glucose_Tolerance_Test_Result\",\n",
        "    \"Vitamin_D_Level\", \"C_Protein_Level\"] + [f\"{col}_index\" for col in categorical_cols]"
      ],
      "metadata": {
        "id": "Fmeec6xpuPqN"
      },
      "execution_count": 34,
      "outputs": []
    },
    {
      "cell_type": "code",
      "source": [
        "assembler = VectorAssembler(inputCols=feature_cols, outputCol=\"features\")\n",
        "data = assembler.transform(data)"
      ],
      "metadata": {
        "id": "htPn6-8vuSr9"
      },
      "execution_count": 35,
      "outputs": []
    },
    {
      "cell_type": "code",
      "source": [
        "# Standardize features\n",
        "scaler = StandardScaler(inputCol=\"features\", outputCol=\"scaled_features\")\n",
        "data = scaler.fit(data).transform(data)"
      ],
      "metadata": {
        "id": "4ki5qzuAuVDi"
      },
      "execution_count": 36,
      "outputs": []
    },
    {
      "cell_type": "code",
      "source": [
        "# Encode target variable\n",
        "data = StringIndexer(inputCol=\"Diabetes_Status\", outputCol=\"label\").fit(data).transform(data)"
      ],
      "metadata": {
        "id": "DduWEViyuXGk"
      },
      "execution_count": 37,
      "outputs": []
    },
    {
      "cell_type": "code",
      "source": [
        "# Split the data into training and testing sets\n",
        "train_data, test_data = data.randomSplit([0.8, 0.2], seed=42)"
      ],
      "metadata": {
        "id": "rgHV1qWmuZOJ"
      },
      "execution_count": 38,
      "outputs": []
    },
    {
      "cell_type": "code",
      "source": [
        "# Train a logistic regression model\n",
        "rf = RandomForestClassifier(labelCol=\"label\", featuresCol=\"features\", numTrees=100)"
      ],
      "metadata": {
        "id": "8SID78f8ubpY"
      },
      "execution_count": 39,
      "outputs": []
    },
    {
      "cell_type": "code",
      "source": [
        "# Hyperparameter tuning with CrossValidator\n",
        "paramGrid_rf = ParamGridBuilder() \\\n",
        "    .addGrid(rf.numTrees, [50, 100, 150]) \\\n",
        "    .addGrid(rf.maxDepth, [5, 10, 15]) \\\n",
        "    .build()"
      ],
      "metadata": {
        "id": "KTez3hUj3rru"
      },
      "execution_count": 40,
      "outputs": []
    },
    {
      "cell_type": "code",
      "source": [
        "crossval_rf = CrossValidator(\n",
        "    estimator=rf,\n",
        "    estimatorParamMaps=paramGrid_rf,\n",
        "    evaluator=MulticlassClassificationEvaluator(labelCol=\"label\", predictionCol=\"prediction\", metricName=\"accuracy\"),\n",
        "    numFolds=5\n",
        ")"
      ],
      "metadata": {
        "id": "whvilFlW3vFi"
      },
      "execution_count": 41,
      "outputs": []
    },
    {
      "cell_type": "code",
      "source": [
        "# Fit the model\n",
        "cv_model = crossval_rf.fit(train_data)"
      ],
      "metadata": {
        "id": "B5nf3IkXuiMe"
      },
      "execution_count": 42,
      "outputs": []
    },
    {
      "cell_type": "code",
      "source": [
        "# Evaluate models and compare\n",
        "best_model_rf = cv_model_rf.bestModel"
      ],
      "metadata": {
        "colab": {
          "base_uri": "https://localhost:8080/"
        },
        "id": "OXyuQVbgulLF",
        "outputId": "b97f460f-e456-48bb-cbe0-5531c882935b"
      },
      "execution_count": 43,
      "outputs": [
        {
          "output_type": "stream",
          "name": "stdout",
          "text": [
            "Best numTrees: 50\n",
            "Best maxDepth: <bound method _DecisionTreeParams.getMaxDepth of RandomForestClassificationModel: uid=RandomForestClassifier_42a2af1deb51, numTrees=50, numClasses=2, numFeatures=26>\n"
          ]
        }
      ]
    },
    {
      "cell_type": "code",
      "source": [
        "# Evaluate the model on test data\n",
        "predictions = best_model_rf.transform(test_data)"
      ],
      "metadata": {
        "id": "fGm1GcPMx6CX"
      },
      "execution_count": 44,
      "outputs": []
    },
    {
      "cell_type": "code",
      "source": [
        "# Evaluate accuracy and other metrics\n",
        "evaluator = MulticlassClassificationEvaluator(labelCol=\"label\", predictionCol=\"prediction\")\n",
        "accuracy = evaluator.evaluate(predictions, {evaluator.metricName: \"accuracy\"})\n",
        "precision = evaluator.evaluate(predictions, {evaluator.metricName: \"weightedPrecision\"})\n",
        "recall = evaluator.evaluate(predictions, {evaluator.metricName: \"weightedRecall\"})\n",
        "f1 = evaluator.evaluate(predictions, {evaluator.metricName: \"f1\"})"
      ],
      "metadata": {
        "id": "g5FeA9ADx8Mm"
      },
      "execution_count": 45,
      "outputs": []
    },
    {
      "cell_type": "code",
      "source": [
        "print(f\"Test Accuracy: {accuracy:.2f}\")\n",
        "print(f\"Test Precision: {precision:.2f}\")\n",
        "print(f\"Test Recall: {recall:.2f}\")\n",
        "print(f\"Test F1 Score: {f1:.2f}\")\n"
      ],
      "metadata": {
        "colab": {
          "base_uri": "https://localhost:8080/"
        },
        "id": "WkiVg17mx-bU",
        "outputId": "49f5bd1b-715c-4fa2-f053-acc539cdeb36"
      },
      "execution_count": 46,
      "outputs": [
        {
          "output_type": "stream",
          "name": "stdout",
          "text": [
            "Test Accuracy: 0.49\n",
            "Test Precision: 0.49\n",
            "Test Recall: 0.49\n",
            "Test F1 Score: 0.48\n"
          ]
        }
      ]
    },
    {
      "cell_type": "code",
      "source": [
        "# Feature importance\n",
        "importances = best_model_rf.featureImportances\n",
        "important_features = [(feature_cols[i], importance) for i, importance in enumerate(importances) if importance > 0]\n",
        "important_features = sorted(important_features, key=lambda x: x[1], reverse=True)\n",
        "print(\"Feature Importances:\")\n",
        "for feature, importance in important_features:\n",
        "    print(f\"{feature}: {importance:.4f}\")\n"
      ],
      "metadata": {
        "colab": {
          "base_uri": "https://localhost:8080/"
        },
        "id": "4DVVhpZpyAST",
        "outputId": "bad5f454-a6e0-4110-c324-4bca62daa838"
      },
      "execution_count": 47,
      "outputs": [
        {
          "output_type": "stream",
          "name": "stdout",
          "text": [
            "Feature Importances:\n",
            "Age: 0.0777\n",
            "C_Protein_Level: 0.0725\n",
            "BMI: 0.0711\n",
            "Waist_Hip_Ratio: 0.0679\n",
            "Vitamin_D_Level: 0.0667\n",
            "Glucose_Tolerance_Test_Result: 0.0666\n",
            "Heart_Rate: 0.0653\n",
            "Cholesterol_Level: 0.0651\n",
            "Fasting_Blood_Sugar: 0.0633\n",
            "Postprandial_Blood_Sugar: 0.0616\n",
            "HBA1C: 0.0567\n",
            "Physical_Activity_index: 0.0265\n",
            "Diet_Type_index: 0.0252\n",
            "Smoking_Status_index: 0.0248\n",
            "Stress_Level_index: 0.0248\n",
            "Alcohol_Intake_index: 0.0243\n",
            "Pregnancies: 0.0232\n",
            "Gender_index: 0.0171\n",
            "Thyroid_Condition_index: 0.0134\n",
            "Polycystic_Ovary_Syndrome_index: 0.0128\n",
            "Hypertension_index: 0.0127\n",
            "Health_Insurance_index: 0.0125\n",
            "Medication_For_Chronic_Conditions_index: 0.0125\n",
            "Urban_Rural_index: 0.0122\n",
            "Regular_Checkups_index: 0.0121\n",
            "Family_History_index: 0.0113\n"
          ]
        }
      ]
    },
    {
      "cell_type": "code",
      "source": [
        "spark.stop()"
      ],
      "metadata": {
        "id": "Ldg7N4FAyCtQ"
      },
      "execution_count": 48,
      "outputs": []
    },
    {
      "cell_type": "code",
      "source": [],
      "metadata": {
        "id": "f5YQ9ZG6yD1P"
      },
      "execution_count": 48,
      "outputs": []
    }
  ]
}